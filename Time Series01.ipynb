{
 "cells": [
  {
   "cell_type": "code",
   "execution_count": 1,
   "metadata": {},
   "outputs": [],
   "source": [
    "import numpy as np\n",
    "import statsmodels.api as sm\n",
    "import statsmodels.formula.api as smf"
   ]
  },
  {
   "cell_type": "code",
   "execution_count": 2,
   "metadata": {},
   "outputs": [],
   "source": [
    "import matplotlib.pyplot as plt\n",
    "#import matplotlib.pylab as plt\n",
    "from matplotlib import font_manager, rc\n",
    "font_name = font_manager.FontProperties(fname=\"c:/Windows/Fonts/malgun.ttf\").get_name()\n",
    "rc('font', family=font_name)"
   ]
  },
  {
   "cell_type": "markdown",
   "metadata": {},
   "source": [
    "### StatsModels 패키지는 ARMA 모형 분석 및 추정을 위해 다음과 같은 클래스를 제공한다.\n",
    "\n",
    "#### 클래스 이름\t용도\n",
    "* ArmaProcess\t미리 정해진 계수를 가진 ARMA 모형\n",
    "* ARMA\t주어진 자료에서 계수를 추정하기 위한 ARMA 모형\n",
    "* ARMAResults\t주어진 자료에서 추정된 ARMA 모형"
   ]
  },
  {
   "cell_type": "code",
   "execution_count": 3,
   "metadata": {},
   "outputs": [],
   "source": [
    "ar = np.r_[1, -0.75, 0.25] \n",
    "ma = np.r_[1, 0.65, 0.35]\n",
    "m = sm.tsa.ArmaProcess(ar, ma)\n"
   ]
  },
  {
   "cell_type": "code",
   "execution_count": 4,
   "metadata": {},
   "outputs": [
    {
     "data": {
      "image/png": "[encoded data removed]",
      "text/plain": [
       "<Figure size 432x288 with 1 Axes>"
      ]
     },
     "metadata": {
      "needs_background": "light"
     },
     "output_type": "display_data"
    }
   ],
   "source": [
    "np.random.seed(12345)\n",
    "x = m.generate_sample(100)\n",
    "plt.plot(x)\n",
    "plt.show()"
   ]
  },
  {
   "cell_type": "markdown",
   "metadata": {},
   "source": [
    "# 특성 분석\n",
    "## 메서드, 속성 이름\t용도\n",
    "* isstationary\t모형 안정성(stability)\n",
    "* isinvertible\t모형 가역성(invertibility)\n",
    "* acovf()\t이론적인 자기 공분산(autocovariance) 값\n",
    "* acf()\t이론적인 자기 상관계수(autocorrelation) 값\n",
    "* pacf()\t이론적인 자기 편상관계수(partial autocorrelation) 값"
   ]
  },
  {
   "cell_type": "code",
   "execution_count": 5,
   "metadata": {},
   "outputs": [
    {
     "data": {
      "text/plain": [
       "True"
      ]
     },
     "execution_count": 5,
     "metadata": {},
     "output_type": "execute_result"
    }
   ],
   "source": [
    "m.isstationary"
   ]
  },
  {
   "cell_type": "code",
   "execution_count": 6,
   "metadata": {},
   "outputs": [
    {
     "data": {
      "text/plain": [
       "True"
      ]
     },
     "execution_count": 6,
     "metadata": {},
     "output_type": "execute_result"
    }
   ],
   "source": [
    "m.isinvertible"
   ]
  },
  {
   "cell_type": "code",
   "execution_count": 7,
   "metadata": {},
   "outputs": [
    {
     "data": {
      "image/png": "[encoded data removed]",
      "text/plain": [
       "<Figure size 432x288 with 3 Axes>"
      ]
     },
     "metadata": {
      "needs_background": "light"
     },
     "output_type": "display_data"
    }
   ],
   "source": [
    "plt.subplot(311)\n",
    "plt.stem(m.acovf(10))\n",
    "plt.subplot(312)\n",
    "plt.stem(m.acf(10))\n",
    "plt.subplot(313)\n",
    "plt.stem(m.pacf(10))\n",
    "plt.show()"
   ]
  },
  {
   "cell_type": "markdown",
   "metadata": {},
   "source": [
    "### ARMA 및 ARMAResults 클래스 사용법\n",
    "\n",
    "* ARMA 및 ARMAResults 클래스는 미리 계수가 정해진 이론적 모형이 아니라 주어진 자료로부터 모형을 추정할 때 사용하는 클래스이다. 사용 방법은 다음과 같다.\n",
    "\n",
    "* 우선 주어진 자료와 차수를 입력변수로 ARMA 객체를 생성하고 ARMA.fit() 메서드를 사용하여 추정결과를 ARMAResults 클래스 객체로 출력한다."
   ]
  },
  {
   "cell_type": "code",
   "execution_count": 8,
   "metadata": {},
   "outputs": [
    {
     "name": "stdout",
     "output_type": "stream",
     "text": [
      "                              ARMA Model Results                              \n",
      "==============================================================================\n",
      "Dep. Variable:                      y   No. Observations:                  100\n",
      "Model:                     ARMA(2, 2)   Log Likelihood                -144.231\n",
      "Method:                       css-mle   S.D. of innovations              1.011\n",
      "Date:                Tue, 01 Oct 2019   AIC                            300.462\n",
      "Time:                        16:54:58   BIC                            316.093\n",
      "Sample:                             0   HQIC                           306.788\n",
      "                                                                              \n",
      "==============================================================================\n",
      "                 coef    std err          z      P>|z|      [0.025      0.975]\n",
      "------------------------------------------------------------------------------\n",
      "const          0.1152      0.533      0.216      0.829      -0.929       1.159\n",
      "ar.L1.y        0.6593      0.171      3.864      0.000       0.325       0.994\n",
      "ar.L2.y       -0.0966      0.159     -0.606      0.546      -0.409       0.216\n",
      "ma.L1.y        0.8405      0.145      5.812      0.000       0.557       1.124\n",
      "ma.L2.y        0.5066      0.109      4.640      0.000       0.293       0.721\n",
      "                                    Roots                                    \n",
      "=============================================================================\n",
      "                  Real          Imaginary           Modulus         Frequency\n",
      "-----------------------------------------------------------------------------\n",
      "AR.1            2.2746           +0.0000j            2.2746            0.0000\n",
      "AR.2            4.5532           +0.0000j            4.5532            0.0000\n",
      "MA.1           -0.8295           -1.1339j            1.4049           -0.3505\n",
      "MA.2           -0.8295           +1.1339j            1.4049            0.3505\n",
      "-----------------------------------------------------------------------------\n"
     ]
    }
   ],
   "source": [
    "m2 = sm.tsa.ARMA(x, (2, 2))\n",
    "r = m2.fit(disp=False)\n",
    "print(r.summary())"
   ]
  },
  {
   "cell_type": "markdown",
   "metadata": {},
   "source": [
    "## ARMAResults 클래스 객체는 추정 결과 정보를 다음과 같은 속성값에 나누어 저장한다.\n",
    "\n",
    "### 속성/메서드 이름\t용도\n",
    "* model\t추정 자료와 모형 차수 등을 가진 ARMA 클래스 객체\n",
    "* k_ar\tAR 차수\n",
    "* k_ma\tMA 차수\n",
    "* arparams\t추정된 AR 계수\n",
    "* maparams\t추정된 MA 계수\n",
    "* params\t추정된 전체 계수 (trend 계수 포함)\n",
    "* bse\t추정된 전체 계수의 표준 오차\n",
    "* tvalues\t추정된 계수의 t statistics\n",
    "* pvalues\t추정된 계수의 t statistics에 대한 p value\n",
    "* conf_int()\t추정된 계수의 신뢰구간 계산\n",
    "* llf\tLog Likelihood 값\n",
    "* aic\tAIC 값\n",
    "* bic\tBIC 값\n",
    "* hqic\tHQIC 값\n",
    "* fittedvalues\t추정 모형에 의한 예측값\n",
    "* resid\t추정 모형에 의한 잔차항(Residuals)\n",
    "* sigma2\t추정 모형에 의한 잔차항의 분산"
   ]
  },
  {
   "cell_type": "code",
   "execution_count": 9,
   "metadata": {},
   "outputs": [
    {
     "data": {
      "text/plain": [
       "array([ 0.65927037, -0.09655681])"
      ]
     },
     "execution_count": 9,
     "metadata": {},
     "output_type": "execute_result"
    }
   ],
   "source": [
    "r.arparams"
   ]
  },
  {
   "cell_type": "code",
   "execution_count": 10,
   "metadata": {},
   "outputs": [
    {
     "data": {
      "text/plain": [
       "array([0.84051332, 0.50663558])"
      ]
     },
     "execution_count": 10,
     "metadata": {},
     "output_type": "execute_result"
    }
   ],
   "source": [
    "r.maparams"
   ]
  },
  {
   "cell_type": "code",
   "execution_count": 11,
   "metadata": {},
   "outputs": [
    {
     "data": {
      "text/plain": [
       "array([ 0.11519285,  0.65927037, -0.09655681,  0.84051332,  0.50663558])"
      ]
     },
     "execution_count": 11,
     "metadata": {},
     "output_type": "execute_result"
    }
   ],
   "source": [
    "r.params"
   ]
  },
  {
   "cell_type": "code",
   "execution_count": 12,
   "metadata": {},
   "outputs": [
    {
     "data": {
      "text/plain": [
       "array([0.53261667, 0.1706156 , 0.15928806, 0.14462624, 0.1091988 ])"
      ]
     },
     "execution_count": 12,
     "metadata": {},
     "output_type": "execute_result"
    }
   ],
   "source": [
    "r.bse"
   ]
  },
  {
   "cell_type": "code",
   "execution_count": 13,
   "metadata": {},
   "outputs": [
    {
     "data": {
      "text/plain": [
       "array([ 0.21627722,  3.86406857, -0.60617734,  5.81162401,  4.63957075])"
      ]
     },
     "execution_count": 13,
     "metadata": {},
     "output_type": "execute_result"
    }
   ],
   "source": [
    "r.tvalues"
   ]
  },
  {
   "cell_type": "code",
   "execution_count": 14,
   "metadata": {},
   "outputs": [
    {
     "data": {
      "text/plain": [
       "array([8.29235394e-01, 2.03787457e-04, 5.45842724e-01, 8.23426471e-08,\n",
       "       1.11581035e-05])"
      ]
     },
     "execution_count": 14,
     "metadata": {},
     "output_type": "execute_result"
    }
   ],
   "source": [
    "r.pvalues"
   ]
  },
  {
   "cell_type": "code",
   "execution_count": 15,
   "metadata": {},
   "outputs": [
    {
     "data": {
      "text/plain": [
       "array([[-0.92871664,  1.15910235],\n",
       "       [ 0.32486994,  0.9936708 ],\n",
       "       [-0.40875568,  0.21564205],\n",
       "       [ 0.5570511 ,  1.12397554],\n",
       "       [ 0.29260986,  0.7206613 ]])"
      ]
     },
     "execution_count": 15,
     "metadata": {},
     "output_type": "execute_result"
    }
   ],
   "source": [
    "r.conf_int()"
   ]
  },
  {
   "cell_type": "code",
   "execution_count": 16,
   "metadata": {},
   "outputs": [
    {
     "data": {
      "text/plain": [
       "-144.231013370284"
      ]
     },
     "execution_count": 16,
     "metadata": {},
     "output_type": "execute_result"
    }
   ],
   "source": [
    "r.llf"
   ]
  },
  {
   "cell_type": "code",
   "execution_count": 17,
   "metadata": {},
   "outputs": [
    {
     "data": {
      "text/plain": [
       "300.462026740568"
      ]
     },
     "execution_count": 17,
     "metadata": {},
     "output_type": "execute_result"
    }
   ],
   "source": [
    "r.aic"
   ]
  },
  {
   "cell_type": "code",
   "execution_count": 18,
   "metadata": {},
   "outputs": [
    {
     "data": {
      "text/plain": [
       "316.0930478564965"
      ]
     },
     "execution_count": 18,
     "metadata": {},
     "output_type": "execute_result"
    }
   ],
   "source": [
    "r.bic"
   ]
  },
  {
   "cell_type": "code",
   "execution_count": 19,
   "metadata": {},
   "outputs": [
    {
     "data": {
      "text/plain": [
       "306.7881822502628"
      ]
     },
     "execution_count": 19,
     "metadata": {},
     "output_type": "execute_result"
    }
   ],
   "source": [
    "r.hqic"
   ]
  },
  {
   "cell_type": "code",
   "execution_count": 20,
   "metadata": {},
   "outputs": [
    {
     "data": {
      "text/plain": [
       "1.0211629257247028"
      ]
     },
     "execution_count": 20,
     "metadata": {},
     "output_type": "execute_result"
    }
   ],
   "source": [
    "r.sigma2"
   ]
  },
  {
   "cell_type": "code",
   "execution_count": 21,
   "metadata": {},
   "outputs": [
    {
     "data": {
      "text/plain": [
       "array([ 0.11519285, -0.15507023,  0.40740454, -0.32549478, -1.12728962,\n",
       "        2.01300422,  4.15862958,  2.80999897,  1.66196738,  1.78482032,\n",
       "        2.77478578,  3.36083729,  0.01130115, -0.56145995,  0.13649944,\n",
       "        2.03773307,  3.15051015, -1.09364646, -2.3788198 ,  1.18675752,\n",
       "        0.70544446, -0.60327541,  0.35389405,  5.08199183,  2.59672294,\n",
       "       -0.35486082, -0.40722668, -0.07335297,  0.91412447,  0.91161423,\n",
       "        2.34109654,  0.729599  , -1.46840028, -4.7296589 , -6.3675437 ,\n",
       "       -5.00642194, -1.50003781, -1.76064035, -0.92362566, -1.64024794,\n",
       "       -0.87929321, -3.5241608 , -3.16252236, -3.59388931, -3.82548866,\n",
       "       -3.8193719 , -1.72632018,  0.25874548, -0.51260488,  0.02249654,\n",
       "        2.2911678 ,  1.82323762,  1.22221373,  0.64354584,  1.52794679,\n",
       "        3.19042342,  0.75097736, -2.66935653, -2.12888127,  0.08842867,\n",
       "       -0.40768756,  1.00974202,  1.03555464,  0.37254598,  1.27416896,\n",
       "        2.15642869, -0.1134056 , -0.65532912, -3.81881125, -4.16438901,\n",
       "       -3.77063178, -4.20641383, -0.63344499,  1.84460874,  2.39765242,\n",
       "        3.18516477,  1.110252  , -1.04212446, -2.28114392, -2.78127252,\n",
       "       -1.24256387, -0.08799587, -1.58651648,  0.01524298,  1.23900881,\n",
       "        2.24944129,  4.46582915,  1.43897495,  1.03987277,  0.67608114,\n",
       "        1.22772544,  1.38692201,  3.94542376,  2.72799169,  3.9502517 ,\n",
       "        2.85750335,  2.03454223,  1.39522787, -0.69834245, -0.05583759])"
      ]
     },
     "execution_count": 21,
     "metadata": {},
     "output_type": "execute_result"
    }
   ],
   "source": [
    "r.fittedvalues"
   ]
  },
  {
   "cell_type": "code",
   "execution_count": 22,
   "metadata": {},
   "outputs": [
    {
     "data": {
      "text/plain": [
       "array([-0.31990051,  0.34742284, -0.49173639, -0.51157757,  1.94332065,\n",
       "        1.28494474, -0.20253075,  0.16241623,  0.56299464,  0.98570795,\n",
       "        0.83339975, -1.55262607,  0.22777506,  0.24269436,  1.16261459,\n",
       "        0.86223864, -2.25224722, -0.32030579,  1.82054448, -0.73582412,\n",
       "       -0.4683285 ,  0.6410327 ,  2.9852196 , -1.32956515, -0.72093615,\n",
       "        0.21517914,  0.01483055,  0.57788963,  0.00968392,  1.1828491 ,\n",
       "       -0.84093966, -0.95272088, -2.2342022 , -1.68382759, -0.41675354,\n",
       "        0.87095734, -1.10859147,  0.3310551 , -0.92510785,  0.29463324,\n",
       "       -2.18300884, -0.05281829, -1.25213147, -0.86572933, -0.8932689 ,\n",
       "        0.49223091,  0.51730469, -0.74169631,  0.42619948,  1.33465471,\n",
       "       -0.1885439 ,  0.17894623, -0.07329842,  0.80103218,  1.24442848,\n",
       "       -1.17718747, -1.61625255,  0.21061502,  0.73173981, -0.68142306,\n",
       "        1.01089351, -0.08962733, -0.15087846,  0.76014299,  0.66028717,\n",
       "       -1.15562496,  0.03412405, -2.3083916 , -0.54260243, -0.81462965,\n",
       "       -1.22614889,  1.48560369,  0.7977654 ,  0.49532088,  1.01953387,\n",
       "       -0.81784097, -0.78779655, -0.80959234, -0.73102661,  0.41352159,\n",
       "        0.16181678, -1.17697727,  0.99012332,  0.41297273,  0.80968188,\n",
       "        1.81364039, -1.388282  ,  0.69432556, -0.13710895,  0.59226219,\n",
       "        0.23306882,  2.00273119, -0.40728696,  1.76650314, -0.1721262 ,\n",
       "        0.36826089,  0.08563743, -1.00495578,  0.60076424,  0.15600677])"
      ]
     },
     "execution_count": 22,
     "metadata": {},
     "output_type": "execute_result"
    }
   ],
   "source": [
    "r.resid"
   ]
  },
  {
   "cell_type": "markdown",
   "metadata": {},
   "source": [
    "### ARMAResults 클래스 객체는 다음과 같은 유용한 메서드도 제공한다.\n",
    "\n",
    "### 메서드 이름\t용도\n",
    "* summary()\t추정 결과 요약 문자열\n",
    "* summary2()\t추정 결과 요약 문자열\n",
    "* forecast()\t예측 (자료가 끝난 다음의 미래 예측, 신뢰구간 출력)\n",
    "* predict()\t예측 (자료 내부의 in-sample 예측도 가능)\n",
    "* plot_predict()\t예측 플롯. forecast() 결과를 시각화"
   ]
  },
  {
   "cell_type": "code",
   "execution_count": 23,
   "metadata": {},
   "outputs": [
    {
     "data": {
      "text/plain": [
       "array([0.561327  , 0.48980509, 0.31908631, 0.21344241, 0.16027857,\n",
       "       0.13542987, 0.12418118, 0.11916457, 0.11694341, 0.11596344,\n",
       "       0.11553185, 0.11534194, 0.11525841, 0.11522168, 0.11520553,\n",
       "       0.11519843, 0.1151953 , 0.11519393, 0.11519333, 0.11519306])"
      ]
     },
     "execution_count": 23,
     "metadata": {},
     "output_type": "execute_result"
    }
   ],
   "source": [
    "r.forecast(20)[0]"
   ]
  },
  {
   "cell_type": "code",
   "execution_count": 24,
   "metadata": {},
   "outputs": [
    {
     "data": {
      "text/plain": [
       "array([0.561327  , 0.48980509, 0.31908631, 0.21344241, 0.16027857,\n",
       "       0.13542987, 0.12418118, 0.11916457, 0.11694341, 0.11596344,\n",
       "       0.11553185, 0.11534194, 0.11525841, 0.11522168, 0.11520553,\n",
       "       0.11519843, 0.1151953 , 0.11519393, 0.11519333, 0.11519306,\n",
       "       0.11519295])"
      ]
     },
     "execution_count": 24,
     "metadata": {},
     "output_type": "execute_result"
    }
   ],
   "source": [
    "r.predict(100, 120)"
   ]
  },
  {
   "cell_type": "code",
   "execution_count": 25,
   "metadata": {},
   "outputs": [
    {
     "data": {
      "image/png": "[encoded data removed]",
      "text/plain": [
       "<Figure size 432x288 with 1 Axes>"
      ]
     },
     "metadata": {
      "needs_background": "light"
     },
     "output_type": "display_data"
    },
    {
     "data": {
      "image/png": "[encoded data removed]",
      "text/plain": [
       "<Figure size 432x288 with 1 Axes>"
      ]
     },
     "metadata": {
      "needs_background": "light"
     },
     "output_type": "display_data"
    }
   ],
   "source": [
    "plt.figure(1)\n",
    "plt.plot(r.model.endog, marker='o')\n",
    "#plt.hold(True)\n",
    "plt.plot(np.r_[[np.nan] * 100, r.forecast(20)[0]], marker='o'); plt.axvspan(xmin=100, xmax=120, alpha=0.2)\n",
    "plt.figure(2)\n",
    "plt.plot(r.model.endog, marker='o')\n",
    "#plt.hold(True)\n",
    "plt.plot(np.r_[[np.nan] * 20, r.predict(20, dynamic=True)], marker='o'); plt.axvspan(xmin=20, xmax=100, alpha=0.2)\n",
    "plt.show()"
   ]
  }
 ],
 "metadata": {
  "kernelspec": {
   "display_name": "Python 3",
   "language": "python",
   "name": "python3"
  },
  "language_info": {
   "codemirror_mode": {
    "name": "ipython",
    "version": 3
   },
   "file_extension": ".py",
   "mimetype": "text/x-python",
   "name": "python",
   "nbconvert_exporter": "python",
   "pygments_lexer": "ipython3",
   "version": "3.7.3"
  }
 },
 "nbformat": 4,
 "nbformat_minor": 2
}
